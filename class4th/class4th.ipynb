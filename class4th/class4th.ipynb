{
 "metadata": {
  "language_info": {
   "codemirror_mode": {
    "name": "ipython",
    "version": 3
   },
   "file_extension": ".py",
   "mimetype": "text/x-python",
   "name": "python",
   "nbconvert_exporter": "python",
   "pygments_lexer": "ipython3",
   "version": "3.9.6"
  },
  "orig_nbformat": 4,
  "kernelspec": {
   "name": "python3",
   "display_name": "Python 3.9.6 64-bit"
  },
  "interpreter": {
   "hash": "194e284c464f2bcdad224d6071df98610a501bf2f96fe8239b576e87cd8d3127"
  }
 },
 "nbformat": 4,
 "nbformat_minor": 2,
 "cells": [
  {
   "cell_type": "code",
   "execution_count": 1,
   "metadata": {},
   "outputs": [],
   "source": [
    "# name = input(\"What is your name? \")\n",
    "# name"
   ]
  },
  {
   "cell_type": "code",
   "execution_count": 2,
   "metadata": {},
   "outputs": [],
   "source": [
    "# firstnumber = input(\"Write your number\")\n",
    "# changenumbertype = int(firstnumber)\n",
    "\n",
    "# square = changenumbertype * changenumbertype\n",
    "# square"
   ]
  },
  {
   "cell_type": "code",
   "execution_count": 3,
   "metadata": {},
   "outputs": [
    {
     "output_type": "execute_result",
     "data": {
      "text/plain": [
       "5"
      ]
     },
     "metadata": {},
     "execution_count": 3
    }
   ],
   "source": [
    "# pow(2,4)\n",
    "# help(pow)\n",
    "# help(max)\n",
    "max(2,-5,5,-66)"
   ]
  },
  {
   "cell_type": "code",
   "execution_count": 4,
   "metadata": {},
   "outputs": [
    {
     "output_type": "execute_result",
     "data": {
      "text/plain": [
       "2.0"
      ]
     },
     "metadata": {},
     "execution_count": 4
    }
   ],
   "source": [
    "import math\n",
    "sq = math.sqrt(4)\n",
    "sq"
   ]
  },
  {
   "cell_type": "code",
   "execution_count": 5,
   "metadata": {},
   "outputs": [
    {
     "output_type": "stream",
     "name": "stdout",
     "text": [
      "Help on built-in function ceil in module math:\n\nceil(x, /)\n    Return the ceiling of x as an Integral.\n    \n    This is the smallest integer >= x.\n\n"
     ]
    }
   ],
   "source": [
    "dir(math)\n",
    "\n",
    "help(math.ceil)"
   ]
  },
  {
   "cell_type": "code",
   "execution_count": 6,
   "metadata": {},
   "outputs": [
    {
     "output_type": "execute_result",
     "data": {
      "text/plain": [
       "'We are Performing square'"
      ]
     },
     "metadata": {},
     "execution_count": 6
    }
   ],
   "source": [
    "import mysquare\n",
    "mysquare.__doc__\n",
    "mysquare.squareofnumber.__doc__"
   ]
  },
  {
   "cell_type": "code",
   "execution_count": 8,
   "metadata": {},
   "outputs": [
    {
     "output_type": "execute_result",
     "data": {
      "text/plain": [
       "'This module provides access to the mathematical functions\\ndefined by the C standard.'"
      ]
     },
     "metadata": {},
     "execution_count": 8
    }
   ],
   "source": [
    "math.__doc__"
   ]
  },
  {
   "cell_type": "code",
   "execution_count": 24,
   "metadata": {},
   "outputs": [
    {
     "output_type": "execute_result",
     "data": {
      "text/plain": [
       "'fara'"
      ]
     },
     "metadata": {},
     "execution_count": 24
    }
   ],
   "source": [
    "name = \"faraz\"\n",
    "# print(name[0])\n",
    "# print(name[0:2])\n",
    "# print(name[-1])\n",
    "# print(name[1:-2])\n",
    "\n",
    "# ehm chez\n",
    "zyt = name[-1]\n",
    "zyt\n",
    "rem = name[0:-1]\n",
    "rem"
   ]
  }
 ]
}