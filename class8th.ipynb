{
 "metadata": {
  "language_info": {
   "codemirror_mode": {
    "name": "ipython",
    "version": 3
   },
   "file_extension": ".py",
   "mimetype": "text/x-python",
   "name": "python",
   "nbconvert_exporter": "python",
   "pygments_lexer": "ipython3",
   "version": "3.9.6"
  },
  "orig_nbformat": 4,
  "kernelspec": {
   "name": "python3",
   "display_name": "Python 3.9.6 64-bit"
  },
  "interpreter": {
   "hash": "d830bba52a419cfb5b21fa6f1b2a2f5429e507155288c0cc9be8e5f9a4c90fbe"
  }
 },
 "nbformat": 4,
 "nbformat_minor": 2,
 "cells": [
  {
   "cell_type": "code",
   "execution_count": 9,
   "metadata": {},
   "outputs": [
    {
     "output_type": "stream",
     "name": "stdout",
     "text": [
      "you are a zumbee :D\n"
     ]
    }
   ],
   "source": [
    "age = 500\n",
    "if(age < 0):\n",
    "    print(\"age can't be less than zero\")\n",
    "elif(age < 18) :\n",
    "    print(\"you are a younger person\")\n",
    "elif(age > 18 and age <= 120) :\n",
    "    print(\"you are an elder person\")\n",
    "elif(age > 120):\n",
    "    print(\"you are a zumbee :D\")\n",
    "else:\n",
    "    print(\"invalid age passed\")"
   ]
  },
  {
   "cell_type": "code",
   "execution_count": 13,
   "metadata": {},
   "outputs": [
    {
     "output_type": "stream",
     "name": "stdout",
     "text": [
      "you are owner of this laptop\n"
     ]
    }
   ],
   "source": [
    "name = \"mujtaba\"\n",
    "if(name == \"faraz\" or name==\"mujtaba\"):\n",
    "    print(\"you are owner of this laptop\")\n",
    "\n",
    "else:\n",
    "    print(\"you are not an owner\")"
   ]
  },
  {
   "cell_type": "code",
   "execution_count": 17,
   "metadata": {},
   "outputs": [
    {
     "output_type": "stream",
     "name": "stdout",
     "text": [
      "you are owner of this laptop\n"
     ]
    }
   ],
   "source": [
    "firstname = \"syed\"\n",
    "lastname = \"mujtaba\"\n",
    "if(firstname == \"syed\" and lastname ==\"mujtaba\"):\n",
    "    print(\"you are owner of this laptop\")\n",
    "else:\n",
    "    print(\"you are not an owner\")"
   ]
  },
  {
   "cell_type": "code",
   "execution_count": 21,
   "metadata": {},
   "outputs": [
    {
     "output_type": "stream",
     "name": "stdout",
     "text": [
      "you are admin\n"
     ]
    }
   ],
   "source": [
    "name = \"mujtaba\"\n",
    "if(name != \"mujtaba\"):\n",
    "    print(\"you are not admin\")\n",
    "else:\n",
    "    print(\"you are admin\")"
   ]
  },
  {
   "cell_type": "code",
   "execution_count": 23,
   "metadata": {},
   "outputs": [
    {
     "output_type": "stream",
     "name": "stdout",
     "text": [
      "you are not admin\n"
     ]
    }
   ],
   "source": [
    "name = \"mujtaba\"\n",
    "if(name == \"mujtaba\"):\n",
    "    print(\"you are not admin\")\n",
    "else:\n",
    "    print(\"you are admin\")"
   ]
  },
  {
   "cell_type": "code",
   "execution_count": 26,
   "metadata": {},
   "outputs": [
    {
     "output_type": "execute_result",
     "data": {
      "text/plain": [
       "'you are admin'"
      ]
     },
     "metadata": {},
     "execution_count": 26
    }
   ],
   "source": [
    "name = \"mujtaba\"\n",
    "\"you are admin\" if name == \"mujtaba\" else \"you are not admin\"\n"
   ]
  },
  {
   "cell_type": "code",
   "execution_count": 36,
   "metadata": {},
   "outputs": [
    {
     "output_type": "stream",
     "name": "stdout",
     "text": [
      "you are not allowed to go to picnic\n"
     ]
    }
   ],
   "source": [
    "# if student age is greater than 18 and he is an active student and he is male then he may go to picnic\n",
    "active = False\n",
    "age = 18\n",
    "gender = \"m\"\n",
    "\n",
    "if(active == True and age >= 18 and gender == \"m\"):\n",
    "    print(\"you may go to picnic\")\n",
    "else:\n",
    "    print(\"you are not allowed to go to picnic\")"
   ]
  },
  {
   "cell_type": "code",
   "execution_count": 46,
   "metadata": {},
   "outputs": [
    {
     "output_type": "stream",
     "name": "stdout",
     "text": [
      "you are under age\n"
     ]
    }
   ],
   "source": [
    "active = True\n",
    "age = 9\n",
    "gender = \"f\"\n",
    "\n",
    "if(active == True):\n",
    "    if(age > 18):\n",
    "        if(gender == \"m\"):\n",
    "            print(\"You may go to picnic\")\n",
    "        else:\n",
    "            print(\"Females are not allowed\")\n",
    "    else:\n",
    "        print(\"you are under age\")\n",
    "else:\n",
    "    print(\"you are not an active student\")\n",
    "\n"
   ]
  },
  {
   "cell_type": "code",
   "execution_count": 47,
   "metadata": {},
   "outputs": [],
   "source": [
    "#by faraz\n"
   ]
  },
  {
   "cell_type": "code",
   "execution_count": 66,
   "metadata": {},
   "outputs": [
    {
     "output_type": "stream",
     "name": "stdout",
     "text": [
      "you may go to picnic\n"
     ]
    }
   ],
   "source": [
    "age=15 \n",
    "firstname=\"abdullah\"\n",
    "class1=4\n",
    "if(age<18):\n",
    "    if(firstname==\"abdullah\"):\n",
    "        if(class1<10):\n",
    "            print(\"you may go to picnic\")\n",
    "        else:\n",
    "            print(\"your class is ok\")\n",
    "    else:\n",
    "        print(\"your firstname is not abdullah\")\n",
    "else:\n",
    "    print(\"you are under age\")     "
   ]
  },
  {
   "cell_type": "code",
   "execution_count": null,
   "metadata": {},
   "outputs": [],
   "source": []
  }
 ]
}