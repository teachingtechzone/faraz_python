{
 "metadata": {
  "language_info": {
   "codemirror_mode": {
    "name": "ipython",
    "version": 3
   },
   "file_extension": ".py",
   "mimetype": "text/x-python",
   "name": "python",
   "nbconvert_exporter": "python",
   "pygments_lexer": "ipython3",
   "version": "3.9.6"
  },
  "orig_nbformat": 4,
  "kernelspec": {
   "name": "python3",
   "display_name": "Python 3.9.6 64-bit"
  },
  "interpreter": {
   "hash": "93cba93cd577fa6b9de10d0503e83bf5a10a7dbb2632e83ef3c57dda46f05029"
  }
 },
 "nbformat": 4,
 "nbformat_minor": 2,
 "cells": [
  {
   "source": [
    "## Tasks\n",
    "#### 1- check which number is greater and least amoung three\n",
    "#### 3- Write a program to find the average of the given numbers."
   ],
   "cell_type": "markdown",
   "metadata": {}
  },
  {
   "cell_type": "code",
   "execution_count": 2,
   "metadata": {},
   "outputs": [
    {
     "output_type": "stream",
     "name": "stdout",
     "text": [
      "a is the least number\n"
     ]
    }
   ],
   "source": [
    "# a=33\n",
    "# b=45\n",
    "# c=67\n",
    "# if (a<b and c ):\n",
    "#     print(\"a is the least number\")\n",
    "#     if (b<a and c):\n",
    "#         print(\"b is the least number\")\n",
    "#         if (c<a and b):\n",
    "#             print(\"c is the least number\")\n",
    "#             if(a>b and c ):\n",
    "#                 print(\"a is the greater number\")\n",
    "#                 if(b>a and c ):\n",
    "#                     print(\"b is the greater number\")\n",
    "#                     if(c>a and b):\n",
    "#                         print(\"c is the greater number\")    \n",
    "#                     else:\n",
    "#                         print(\"there is no greater or smaller number\")"
   ]
  },
  {
   "cell_type": "code",
   "execution_count": 24,
   "metadata": {},
   "outputs": [],
   "source": [
    "# totalnumber=input(\"three number you want find the average of\")\n",
    "# num4 = num1+num2+num3\n",
    "#     #  num5=num4/3\n",
    "#     #  print(num5)\n"
   ]
  },
  {
   "cell_type": "code",
   "execution_count": 31,
   "metadata": {},
   "outputs": [
    {
     "output_type": "stream",
     "name": "stdout",
     "text": [
      "2.0\n"
     ]
    }
   ],
   "source": [
    "# average\n",
    "num1 = input(\"Write your first number\")\n",
    "num2 = input(\"Write your second number\")\n",
    "num3 = input(\"Write your third number\")\n",
    "\n",
    "tonum1 = int(num1)\n",
    "tonum2 = int(num2)\n",
    "tonum3 = int(num3)\n",
    "\n",
    "sumofnum = tonum1+tonum2+tonum3\n",
    "avg = sumofnum / 3\n",
    "print(avg)\n"
   ]
  },
  {
   "cell_type": "code",
   "execution_count": 1,
   "metadata": {},
   "outputs": [
    {
     "output_type": "stream",
     "name": "stdout",
     "text": [
      "num1 is greatest 3\nnum2 is less 1\n"
     ]
    }
   ],
   "source": [
    "# num1 = 1\n",
    "# num2 = 2\n",
    "# num3 = 3\n",
    "\n",
    "# num1 = 2\n",
    "# num2 = 3\n",
    "# num3 = 1\n",
    "\n",
    "num1 = 3\n",
    "num2 = 1\n",
    "num3 = 2\n",
    "\n",
    "# if(num1 > num2):\n",
    "#     print(num1)\n",
    "# else:\n",
    "#     print(num2)\n",
    "\n",
    "# if(num1 < num2):\n",
    "#     print(num1)\n",
    "# else:\n",
    "#     print(num2)\n",
    "\n",
    "\n",
    "# if(num1 > num2):\n",
    "#     print(\"num1 is greater\",num1)\n",
    "#     print(\"num2 is less\" , num2)\n",
    "# else:\n",
    "#     print(\"num2 is greater\",num2)\n",
    "#     print(\"num1 is less\" , num1)\n",
    "\n",
    "\n",
    "\n",
    "# checking for greatest\n",
    "if(num1 > num2 and num1 > num3):\n",
    "    print(\"num1 is greatest\", num1)\n",
    "elif(num2 > num3):\n",
    "    print(\"num2 is greater\", num2)\n",
    "else:\n",
    "    print(\"num3 is greatest\" , num3)\n",
    "\n",
    "\n",
    "# checking for least\n",
    "if(num1 < num2 and num1 < num3):\n",
    "    print(\"num1 is less\", num1)\n",
    "elif(num2 < num3):\n",
    "    print(\"num2 is less\", num2)\n",
    "else:\n",
    "    print(\"num3 is less\" , num3)\n"
   ]
  },
  {
   "cell_type": "code",
   "execution_count": null,
   "metadata": {},
   "outputs": [],
   "source": []
  },
  {
   "cell_type": "code",
   "execution_count": null,
   "metadata": {},
   "outputs": [],
   "source": []
  }
 ]
}