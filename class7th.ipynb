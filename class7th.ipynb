{
 "metadata": {
  "language_info": {
   "codemirror_mode": {
    "name": "ipython",
    "version": 3
   },
   "file_extension": ".py",
   "mimetype": "text/x-python",
   "name": "python",
   "nbconvert_exporter": "python",
   "pygments_lexer": "ipython3",
   "version": "3.9.6"
  },
  "orig_nbformat": 4,
  "kernelspec": {
   "name": "python3",
   "display_name": "Python 3.9.6 64-bit"
  },
  "interpreter": {
   "hash": "194e284c464f2bcdad224d6071df98610a501bf2f96fe8239b576e87cd8d3127"
  }
 },
 "nbformat": 4,
 "nbformat_minor": 2,
 "cells": [
  {
   "cell_type": "code",
   "execution_count": 44,
   "metadata": {},
   "outputs": [
    {
     "output_type": "stream",
     "name": "stdout",
     "text": [
      "________\nO:  1\nI:  1\nI:  2\n________\nO:  2\nI:  1\nI:  2\n________\nO:  3\nI:  1\nI:  2\n________\nO:  4\nI:  1\nI:  2\n________\nO:  5\nI:  1\nI:  2\n"
     ]
    }
   ],
   "source": [
    "for i in range(1, 6) :\n",
    "    print(\"________\")\n",
    "    print(\"O: \", i)\n",
    "    for j in range(1, 3) :\n",
    "        print(\"I: \", j)"
   ]
  },
  {
   "cell_type": "code",
   "execution_count": 45,
   "metadata": {},
   "outputs": [
    {
     "output_type": "stream",
     "name": "stdout",
     "text": [
      "________\nO:  1\n________\nO:  2\nI:  1\n________\nO:  3\nI:  1\nI:  2\n________\nO:  4\nI:  1\nI:  2\nI:  3\n________\nO:  5\nI:  1\nI:  2\nI:  3\nI:  4\n"
     ]
    }
   ],
   "source": [
    "for i in range(1, 6) :\n",
    "    print(\"________\")\n",
    "    print(\"O: \", i)\n",
    "    for j in range(1, i) :\n",
    "        print(\"I: \", j)"
   ]
  },
  {
   "cell_type": "code",
   "execution_count": 2,
   "metadata": {},
   "outputs": [
    {
     "output_type": "stream",
     "name": "stdout",
     "text": [
      "*\n**\n***\n****\n"
     ]
    }
   ],
   "source": [
    "a = \"\"\n",
    "for i in range(1, 5) :\n",
    "    a = a + \"*\"\n",
    "    print(a)\n",
    "    "
   ]
  },
  {
   "cell_type": "code",
   "execution_count": 71,
   "metadata": {},
   "outputs": [
    {
     "output_type": "stream",
     "name": "stdout",
     "text": [
      "a\nb\nc\n"
     ]
    }
   ],
   "source": [
    "for l in ['a' , 'b' , 'c']:\n",
    "    print(l)"
   ]
  },
  {
   "cell_type": "code",
   "execution_count": 3,
   "metadata": {},
   "outputs": [
    {
     "output_type": "stream",
     "name": "stdout",
     "text": [
      "a\nb\nc\n"
     ]
    }
   ],
   "source": [
    "mylist = ['a' , 'b' , 'c']\n",
    "for l in mylist:\n",
    "    print(l)"
   ]
  },
  {
   "cell_type": "code",
   "execution_count": 5,
   "metadata": {},
   "outputs": [
    {
     "output_type": "stream",
     "name": "stdout",
     "text": [
      "19\n18\n17\n16\n15\n14\n13\n12\n11\n10\n9\n8\n7\n6\n5\n4\n3\n2\n1\n"
     ]
    }
   ],
   "source": [
    "for i in reversed(range(1,20)):\n",
    "    print(i)"
   ]
  },
  {
   "cell_type": "code",
   "execution_count": 7,
   "metadata": {},
   "outputs": [
    {
     "output_type": "stream",
     "name": "stdout",
     "text": [
      "1\n3\n5\n7\n9\n11\n13\n15\n17\n19\n"
     ]
    }
   ],
   "source": [
    "for i in range(1,20,2):\n",
    "    print(i)"
   ]
  },
  {
   "cell_type": "code",
   "execution_count": 9,
   "metadata": {},
   "outputs": [
    {
     "output_type": "stream",
     "name": "stdout",
     "text": [
      "20\n19\n18\n17\n16\n15\n14\n13\n12\n11\n10\n9\n8\n7\n6\n5\n4\n3\n2\n"
     ]
    }
   ],
   "source": [
    "for i in range(20,1,-1):\n",
    "    print(i)"
   ]
  },
  {
   "cell_type": "code",
   "execution_count": 15,
   "metadata": {},
   "outputs": [
    {
     "output_type": "stream",
     "name": "stdout",
     "text": [
      "name\nage\n"
     ]
    }
   ],
   "source": [
    "mydic = {\"name\":\"ali\", \"age\":22}\n",
    "for d in mydic:\n",
    "    print(d)"
   ]
  },
  {
   "cell_type": "code",
   "execution_count": 18,
   "metadata": {},
   "outputs": [
    {
     "output_type": "stream",
     "name": "stdout",
     "text": [
      "ali\n22\n"
     ]
    }
   ],
   "source": [
    "mydic = {\"name\":\"ali\", \"age\":22}\n",
    "for d in mydic.values():\n",
    "    print(d)"
   ]
  },
  {
   "cell_type": "code",
   "execution_count": 21,
   "metadata": {},
   "outputs": [
    {
     "output_type": "stream",
     "name": "stdout",
     "text": [
      "name :: ali\nage :: 22\n"
     ]
    }
   ],
   "source": [
    "for k, v in mydic.items():\n",
    " print(k, \"::\", v)\n"
   ]
  },
  {
   "cell_type": "code",
   "execution_count": 27,
   "metadata": {},
   "outputs": [
    {
     "output_type": "stream",
     "name": "stdout",
     "text": [
      "a\nb\nc\nd\ne\n"
     ]
    }
   ],
   "source": [
    "lst = ['alpha', 'bravo', 'charlie', 'delta', 'echo']\n",
    "for i in lst:\n",
    "    print(i[0])"
   ]
  },
  {
   "cell_type": "code",
   "execution_count": 29,
   "metadata": {},
   "outputs": [
    {
     "output_type": "execute_result",
     "data": {
      "text/plain": [
       "'bravo'"
      ]
     },
     "metadata": {},
     "execution_count": 29
    }
   ],
   "source": [
    "lst[1][0]"
   ]
  }
 ]
}