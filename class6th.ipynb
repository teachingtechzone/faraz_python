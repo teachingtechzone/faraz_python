{
 "metadata": {
  "language_info": {
   "codemirror_mode": {
    "name": "ipython",
    "version": 3
   },
   "file_extension": ".py",
   "mimetype": "text/x-python",
   "name": "python",
   "nbconvert_exporter": "python",
   "pygments_lexer": "ipython3",
   "version": "3.9.6"
  },
  "orig_nbformat": 4,
  "kernelspec": {
   "name": "python3",
   "display_name": "Python 3.9.6 64-bit"
  },
  "interpreter": {
   "hash": "93cba93cd577fa6b9de10d0503e83bf5a10a7dbb2632e83ef3c57dda46f05029"
  }
 },
 "nbformat": 4,
 "nbformat_minor": 2,
 "cells": [
  {
   "cell_type": "code",
   "execution_count": 3,
   "metadata": {},
   "outputs": [
    {
     "output_type": "stream",
     "name": "stdout",
     "text": [
      "0\n1\n2\n3\n4\n5\n6\n7\n8\n"
     ]
    }
   ],
   "source": [
    "for i in range(9):\n",
    "    print(i)        "
   ]
  },
  {
   "cell_type": "code",
   "execution_count": 6,
   "metadata": {},
   "outputs": [
    {
     "output_type": "stream",
     "name": "stdout",
     "text": [
      "5\n6\n7\n8\n"
     ]
    }
   ],
   "source": [
    "for i in range(5,9):\n",
    "    print(i)       "
   ]
  },
  {
   "cell_type": "code",
   "execution_count": 8,
   "metadata": {},
   "outputs": [
    {
     "output_type": "stream",
     "name": "stdout",
     "text": [
      "0\n1\n2\n3\n4\n5\n6\n7\n8\n"
     ]
    }
   ],
   "source": [
    "i = 0\n",
    "while(i < 9):\n",
    "    print(i)\n",
    "    i+=1"
   ]
  },
  {
   "cell_type": "code",
   "execution_count": 22,
   "metadata": {},
   "outputs": [
    {
     "output_type": "stream",
     "name": "stdout",
     "text": [
      "0\n"
     ]
    }
   ],
   "source": [
    "# a = 0\n",
    "# a+=2\n",
    "# a = a + 2\n",
    "# a = a + 2\n",
    "# a = a + 2\n",
    "# a = a + 3\n",
    "# a = a + 4\n",
    "# a+=2\n",
    "# a+=2\n",
    "# a+=2\n",
    "# a+=2\n",
    "# print(a)"
   ]
  },
  {
   "cell_type": "code",
   "execution_count": 28,
   "metadata": {},
   "outputs": [
    {
     "output_type": "stream",
     "name": "stdout",
     "text": [
      "0\n1\n2\n3\n4\nhaider\n5\n6\nfaraz\n7\n8\n"
     ]
    }
   ],
   "source": [
    "i = 0\n",
    "while(i < 9):\n",
    "    print(i)\n",
    "    if(i == 4):\n",
    "        print(\"haider\")\n",
    "    elif(i == 6):\n",
    "        print(\"faraz\")\n",
    "    i+=1"
   ]
  },
  {
   "cell_type": "code",
   "execution_count": 32,
   "metadata": {},
   "outputs": [
    {
     "output_type": "stream",
     "name": "stdout",
     "text": [
      "0\n1\n2\n3\n4\nhaider\n5\n6\nfaraz\n7\n8\n"
     ]
    }
   ],
   "source": [
    "for i in range(0,9):\n",
    "    print(i)\n",
    "    if(i == 4):\n",
    "        print(\"haider\")\n",
    "    elif(i == 6):\n",
    "        print(\"faraz\")"
   ]
  },
  {
   "cell_type": "code",
   "execution_count": 33,
   "metadata": {},
   "outputs": [
    {
     "output_type": "stream",
     "name": "stdout",
     "text": [
      "0\n1\n"
     ]
    }
   ],
   "source": [
    "for i in range(0,9):\n",
    "    print(i)\n",
    "    if i == 1:\n",
    "        break\n",
    "    elif(i == 4):\n",
    "        print(\"haider\")\n",
    "    elif(i == 6):\n",
    "        print(\"faraz\")"
   ]
  },
  {
   "cell_type": "code",
   "execution_count": 45,
   "metadata": {},
   "outputs": [
    {
     "output_type": "stream",
     "name": "stdout",
     "text": [
      "0\n1\n"
     ]
    }
   ],
   "source": [
    "i = 0\n",
    "while(i < 9):\n",
    "    print(i)\n",
    "    if i == 1:\n",
    "        break\n",
    "    elif(i == 4):\n",
    "        print(\"haider\")\n",
    "    elif(i == 6):\n",
    "        print(\"faraz\")\n",
    "    i+=1"
   ]
  },
  {
   "cell_type": "code",
   "execution_count": 41,
   "metadata": {},
   "outputs": [
    {
     "output_type": "stream",
     "name": "stdout",
     "text": [
      "1\n8\n8\n5\n3\n4\n7\n"
     ]
    }
   ],
   "source": [
    "for i in (1, 8, 8, 5, 3, 4,7):\n",
    " print(i)"
   ]
  },
  {
   "cell_type": "code",
   "execution_count": 46,
   "metadata": {},
   "outputs": [
    {
     "output_type": "stream",
     "name": "stdout",
     "text": [
      "1\n8\n8\n3\n4\n7\n"
     ]
    }
   ],
   "source": [
    "for i in (1, 8, 8, 5, 3, 4,7):\n",
    "    if i == 5:\n",
    "        continue\n",
    "        # break\n",
    "    print(i)"
   ]
  },
  {
   "cell_type": "code",
   "execution_count": 54,
   "metadata": {},
   "outputs": [
    {
     "output_type": "stream",
     "name": "stdout",
     "text": [
      "0\n1\n"
     ]
    }
   ],
   "source": [
    "for i in range(0,9):\n",
    "    print(i)\n",
    "    if i == 1:\n",
    "        break\n",
    "    elif(i == 4):\n",
    "        print(\"haider\")\n",
    "    elif(i == 6):\n",
    "        print(\"faraz\")"
   ]
  }
 ]
}