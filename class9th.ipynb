{
 "metadata": {
  "language_info": {
   "codemirror_mode": {
    "name": "ipython",
    "version": 3
   },
   "file_extension": ".py",
   "mimetype": "text/x-python",
   "name": "python",
   "nbconvert_exporter": "python",
   "pygments_lexer": "ipython3",
   "version": "3.9.6"
  },
  "orig_nbformat": 4,
  "kernelspec": {
   "name": "python3",
   "display_name": "Python 3.9.6 64-bit"
  },
  "interpreter": {
   "hash": "384e3cdd782cd1400c35732dbfb8430d2d25332d95bdc1233d383a8b21b43d73"
  }
 },
 "nbformat": 4,
 "nbformat_minor": 2,
 "cells": [
  {
   "cell_type": "code",
   "execution_count": 4,
   "metadata": {},
   "outputs": [
    {
     "output_type": "stream",
     "name": "stdout",
     "text": [
      "you are under age\n"
     ]
    }
   ],
   "source": [
    "active = True\n",
    "age = 9\n",
    "gender = \"f\"\n",
    "\n",
    "if(active == True):\n",
    "    if(age > 18):\n",
    "        if(gender == \"m\"):\n",
    "            print(\"You may go to picnic\")\n",
    "        else:\n",
    "            print(\"Females are not allowed\")\n",
    "    else:\n",
    "        print(\"you are under age\")\n",
    "else:\n",
    "    print(\"you are not an active student\")"
   ]
  },
  {
   "cell_type": "code",
   "execution_count": 10,
   "metadata": {},
   "outputs": [
    {
     "output_type": "stream",
     "name": "stdout",
     "text": [
      "You may go to picnic as you meet all the requirements\n"
     ]
    }
   ],
   "source": [
    "active = True\n",
    "age = 91\n",
    "gender = \"m\"\n",
    "\n",
    "if(active != True):\n",
    "    print(\"You can't go to picnic because you are inactive student\")\n",
    "if(age < 18 ) :\n",
    "    print(\"You can't go to pincic as you are under age\")\n",
    "if(gender != \"m\") :\n",
    "    print(\"You can't go to pincic as you are not male\")\n",
    "if(active == True and age >= 18 and gender == \"m\"):\n",
    "    print(\"You may go to picnic as you meet all the requirements\")"
   ]
  },
  {
   "cell_type": "code",
   "execution_count": 12,
   "metadata": {},
   "outputs": [
    {
     "output_type": "stream",
     "name": "stdout",
     "text": [
      "you are a zumbee :D\n"
     ]
    }
   ],
   "source": [
    "\n",
    "age = 500\n",
    "if(age < 0):\n",
    "    print(\"age can't be less than zero\")\n",
    "elif(age < 18) :\n",
    "    print(\"you are a younger person\")\n",
    "elif(age > 18 and age <= 120) :\n",
    "    print(\"you are an elder person\")\n",
    "elif(age > 120):\n",
    "    print(\"you are a zumbee :D\")\n",
    "else:\n",
    "    print(\"invalid age passed\")"
   ]
  },
  {
   "cell_type": "code",
   "execution_count": 22,
   "metadata": {},
   "outputs": [
    {
     "output_type": "stream",
     "name": "stdout",
     "text": [
      "You can't go to pincic as you are not male\n"
     ]
    }
   ],
   "source": [
    "active = True\n",
    "age = 91\n",
    "gender = \"f\"\n",
    "\n",
    "count = 0\n",
    "if(active != True):\n",
    "    print(\"You can't go to picnic because you are inactive student\")\n",
    "    count+=1\n",
    "if(age < 18 ) :\n",
    "    print(\"You can't go to pincic as you are under age\")\n",
    "    count+=1\n",
    "if(gender != \"m\") :\n",
    "    print(\"You can't go to pincic as you are not male\")\n",
    "    count+=1\n",
    "if(count == 0):\n",
    "    print(\"You may go to picnic as you meet all the requirements\")"
   ]
  },
  {
   "cell_type": "code",
   "execution_count": 27,
   "metadata": {},
   "outputs": [
    {
     "output_type": "stream",
     "name": "stdout",
     "text": [
      "You can't\n"
     ]
    }
   ],
   "source": [
    "active = False\n",
    "age = 5\n",
    "gender = \"f\"\n",
    "\n",
    "count = 0\n",
    "if(active == True or age >= 18 or gender == \"m\"):\n",
    "    print(\"You can go to picnic\")\n",
    "else:\n",
    "    print(\"You can't\")\n"
   ]
  },
  {
   "cell_type": "code",
   "execution_count": 103,
   "metadata": {},
   "outputs": [
    {
     "output_type": "stream",
     "name": "stdout",
     "text": [
      "your company popularity is not true\n"
     ]
    }
   ],
   "source": [
    "# a person can get loan\n",
    "income = 50000\n",
    "company = \"registered\"\n",
    "popularity = True\n",
    "\n",
    "if(income>50000):\n",
    "    if(company=='registered'):\n",
    "        if(popularity ==True):\n",
    "            print(\"yes you may take loan\")\n",
    "        else: \n",
    "            print(\"your income is too low\")\n",
    "    else:\n",
    "        print(\"ypur company is not registered \")   \n",
    "else:\n",
    "    print(\"your company popularity is not true\")\n"
   ]
  },
  {
   "cell_type": "code",
   "execution_count": 58,
   "metadata": {},
   "outputs": [
    {
     "output_type": "stream",
     "name": "stdout",
     "text": [
      "youre is too low\nyour company popularity is not true\n"
     ]
    }
   ],
   "source": [
    "income = 5000\n",
    "company = \"registered\"\n",
    "popularity = False\n",
    "\n",
    "if(income != 50000):\n",
    "    print(\"youre is too low\")\n",
    "\n",
    "if(company !=\"registered\"):\n",
    "    print(\"ypur company is not registered \")\n",
    "\n",
    "if(popularity != True):    \n",
    "    print(\"your company popularity is not true\")\n",
    "\n",
    "if(income >= 50000 and company == \"registered\" and popularity==True):\n",
    "    print(\"you are allowed to take loan\")"
   ]
  },
  {
   "cell_type": "code",
   "execution_count": 48,
   "metadata": {},
   "outputs": [
    {
     "output_type": "stream",
     "name": "stdout",
     "text": [
      "you are allowed to take loan\n"
     ]
    }
   ],
   "source": [
    "income = 50000\n",
    "company = \"registered\"\n",
    "popularity = True\n",
    "\n",
    "if(income != 50000):\n",
    "    print(\"your income is too low\")\n",
    "    count+=1\n",
    "if(company !=\"registered\"):\n",
    "    print(\"ypur company is not registered \") \n",
    "    count+=1  \n",
    "if(popularity != True):    \n",
    "    print(\"your company popularity is not true\") \n",
    "    count+=1     \n",
    "if(count==0):\n",
    "    print(\"you are allowed to take loan\")"
   ]
  },
  {
   "cell_type": "code",
   "execution_count": 76,
   "metadata": {},
   "outputs": [
    {
     "output_type": "stream",
     "name": "stdout",
     "text": [
      "2021-07-17 03:09:52.137342\n"
     ]
    }
   ],
   "source": [
    "import datetime\n",
    "\n",
    "x = datetime.datetime.now()\n",
    "\n",
    "print(x)\n"
   ]
  },
  {
   "cell_type": "code",
   "execution_count": 78,
   "metadata": {},
   "outputs": [
    {
     "output_type": "stream",
     "name": "stdout",
     "text": [
      "2021\n"
     ]
    }
   ],
   "source": [
    "print(x.year)"
   ]
  },
  {
   "cell_type": "code",
   "execution_count": 80,
   "metadata": {},
   "outputs": [
    {
     "output_type": "stream",
     "name": "stdout",
     "text": [
      "17\n"
     ]
    }
   ],
   "source": [
    "print(x.day)"
   ]
  },
  {
   "cell_type": "code",
   "execution_count": 82,
   "metadata": {},
   "outputs": [
    {
     "output_type": "stream",
     "name": "stdout",
     "text": [
      "3\n"
     ]
    }
   ],
   "source": [
    "print(x.hour)"
   ]
  },
  {
   "cell_type": "code",
   "execution_count": 86,
   "metadata": {},
   "outputs": [
    {
     "output_type": "stream",
     "name": "stdout",
     "text": [
      "9\n"
     ]
    }
   ],
   "source": [
    "print(x.minute)"
   ]
  },
  {
   "cell_type": "code",
   "execution_count": 94,
   "metadata": {},
   "outputs": [
    {
     "output_type": "stream",
     "name": "stdout",
     "text": [
      "2020-05-17 00:00:00\n"
     ]
    }
   ],
   "source": [
    "y = datetime.datetime(2020, 5, 17)\n",
    "\n",
    "print(y)"
   ]
  },
  {
   "cell_type": "code",
   "execution_count": 96,
   "metadata": {},
   "outputs": [
    {
     "output_type": "stream",
     "name": "stdout",
     "text": [
      "June\n"
     ]
    }
   ],
   "source": [
    "\n",
    "x = datetime.datetime(2018, 6, 1)\n",
    "\n",
    "print(x.strftime(\"%B\"))"
   ]
  },
  {
   "cell_type": "code",
   "execution_count": 98,
   "metadata": {},
   "outputs": [
    {
     "output_type": "stream",
     "name": "stdout",
     "text": [
      "Jun\n"
     ]
    }
   ],
   "source": [
    "\n",
    "x = datetime.datetime(2018, 6, 1)\n",
    "\n",
    "print(x.strftime(\"%b\"))"
   ]
  },
  {
   "cell_type": "code",
   "execution_count": 101,
   "metadata": {},
   "outputs": [
    {
     "output_type": "stream",
     "name": "stdout",
     "text": [
      "Sat\n"
     ]
    }
   ],
   "source": [
    "x = datetime.datetime.now()\n",
    "\n",
    "print(x.strftime(\"%a\"))"
   ]
  }
 ]
}