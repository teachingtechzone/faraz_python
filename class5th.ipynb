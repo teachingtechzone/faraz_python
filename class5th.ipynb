{
 "metadata": {
  "language_info": {
   "codemirror_mode": {
    "name": "ipython",
    "version": 3
   },
   "file_extension": ".py",
   "mimetype": "text/x-python",
   "name": "python",
   "nbconvert_exporter": "python",
   "pygments_lexer": "ipython3",
   "version": "3.9.6"
  },
  "orig_nbformat": 4,
  "kernelspec": {
   "name": "python3",
   "display_name": "Python 3.9.6 64-bit"
  },
  "interpreter": {
   "hash": "93cba93cd577fa6b9de10d0503e83bf5a10a7dbb2632e83ef3c57dda46f05029"
  }
 },
 "nbformat": 4,
 "nbformat_minor": 2,
 "cells": [
  {
   "cell_type": "code",
   "execution_count": 4,
   "metadata": {},
   "outputs": [
    {
     "output_type": "execute_result",
     "data": {
      "text/plain": [
       "{'apple', 'banana', 'orange', 'pear'}"
      ]
     },
     "metadata": {},
     "execution_count": 4
    }
   ],
   "source": [
    "basket = {'apple', 'orange', 'apple', 'pear', 'orange', 'banana'}\n",
    "basket"
   ]
  },
  {
   "cell_type": "code",
   "execution_count": 23,
   "metadata": {},
   "outputs": [
    {
     "output_type": "execute_result",
     "data": {
      "text/plain": [
       "{'a', 'b', 'c', 'd', 'r'}"
      ]
     },
     "metadata": {},
     "execution_count": 23
    }
   ],
   "source": [
    "a = set('abracadabra')\n",
    "a"
   ]
  },
  {
   "cell_type": "code",
   "execution_count": 24,
   "metadata": {},
   "outputs": [
    {
     "output_type": "execute_result",
     "data": {
      "text/plain": [
       "{'abracadabra', 'asdf'}"
      ]
     },
     "metadata": {},
     "execution_count": 24
    }
   ],
   "source": [
    "a = set(['abracadabra', 'asdf'])\n",
    "a"
   ]
  },
  {
   "cell_type": "code",
   "execution_count": 9,
   "metadata": {},
   "outputs": [],
   "source": [
    "# a = set('abracadabra', \"asdfa\") # more than one arguments not allowed"
   ]
  },
  {
   "cell_type": "code",
   "execution_count": 16,
   "metadata": {},
   "outputs": [],
   "source": [
    "a.add('z')\n",
    "# a.add('z','b') # not allowed"
   ]
  },
  {
   "cell_type": "code",
   "execution_count": 20,
   "metadata": {},
   "outputs": [
    {
     "output_type": "execute_result",
     "data": {
      "text/plain": [
       "frozenset({'a', 'd', 'f', 'g', 's'})"
      ]
     },
     "metadata": {},
     "execution_count": 20
    }
   ],
   "source": [
    "b = frozenset('asdfagsa')\n",
    "b"
   ]
  },
  {
   "cell_type": "code",
   "execution_count": 21,
   "metadata": {},
   "outputs": [
    {
     "output_type": "execute_result",
     "data": {
      "text/plain": [
       "frozenset({'Basel', 'Frankfurt', 'Freiburg'})"
      ]
     },
     "metadata": {},
     "execution_count": 21
    }
   ],
   "source": [
    "cities = frozenset([\"Frankfurt\", \"Basel\",\"Freiburg\"])\n",
    "cities"
   ]
  },
  {
   "cell_type": "code",
   "execution_count": 37,
   "metadata": {},
   "outputs": [
    {
     "output_type": "execute_result",
     "data": {
      "text/plain": [
       "complex"
      ]
     },
     "metadata": {},
     "execution_count": 37
    }
   ],
   "source": [
    "complex_num = 3.14j\n",
    "type(complex_num)"
   ]
  },
  {
   "cell_type": "code",
   "execution_count": 50,
   "metadata": {},
   "outputs": [
    {
     "output_type": "stream",
     "name": "stdout",
     "text": [
      "[123, 'abcd', 10.2, 'd']\n[123, 'abcd']\n['hello', 'world', 'hello', 'world']\n[123, 'abcd', 10.2, 'd', 'hello', 'world']\n"
     ]
    }
   ],
   "source": [
    "list = [123,'abcd',10.2,'d'] #can be an array of any data type or single data type.\n",
    "list1 = ['hello','world']\n",
    "print(list) #will output whole list. [123,'abcd',10.2,'d']\n",
    "print(list[0:2]) #will output first two element of list. [123,'abcd']\n",
    "print(list1 * 2) #will gave list1 two times. ['hello','world','hello','world']\n",
    "print(list + list1)"
   ]
  },
  {
   "cell_type": "code",
   "execution_count": 68,
   "metadata": {},
   "outputs": [],
   "source": [
    "# print(list[0:-1])\n",
    "# print(list[0:-2])\n",
    "# print(list[1:-2])\n",
    "# print(list[0:2])\n",
    "\n",
    "# print(list[0:3])\n",
    "# print(list[-2])\n",
    "\n"
   ]
  },
  {
   "cell_type": "code",
   "execution_count": 85,
   "metadata": {},
   "outputs": [
    {
     "output_type": "stream",
     "name": "stdout",
     "text": [
      "{'name': 'red', 'age': 10}\nred\ndict_values(['red', 10])\ndict_keys(['name', 'age'])\n"
     ]
    },
    {
     "output_type": "execute_result",
     "data": {
      "text/plain": [
       "{'name': 'blue', 'age': 10}"
      ]
     },
     "metadata": {},
     "execution_count": 85
    }
   ],
   "source": [
    "dic={'name':'red','age':10}\n",
    "print(dic)\n",
    "print(dic['name']) \n",
    "print(dic.values()) \n",
    "print(dic.keys())\n",
    "dic['name'] = \"blue\"\n",
    "dic"
   ]
  },
  {
   "cell_type": "code",
   "execution_count": 87,
   "metadata": {},
   "outputs": [
    {
     "output_type": "stream",
     "name": "stdout",
     "text": [
      "(123, 'hello', 'world')\n"
     ]
    }
   ],
   "source": [
    "tuple = (123,'hello')\n",
    "tuple1 = ('world',)\n",
    "# print(tuple)\n",
    "# print(tuple[0])\n",
    "print(tuple + tuple1)\n",
    "# tuple[1]='update'"
   ]
  }
 ]
}